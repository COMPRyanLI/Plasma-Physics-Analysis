{
 "cells": [
  {
   "cell_type": "code",
   "execution_count": 2,
   "id": "0acb733b-b144-45bb-b63a-146591995492",
   "metadata": {
    "tags": []
   },
   "outputs": [
    {
     "name": "stdout",
     "output_type": "stream",
     "text": [
      "Requirement already satisfied: opencv-python in /Users/yk/anaconda3/lib/python3.11/site-packages (4.10.0.82)\n",
      "Requirement already satisfied: numpy>=1.21.2 in /Users/yk/anaconda3/lib/python3.11/site-packages (from opencv-python) (1.24.3)\n"
     ]
    }
   ],
   "source": [
    "from PIL import Image\n",
    "import pandas as pd\n",
    "import os\n",
    "import numpy as np\n",
    "from scipy.signal import find_peaks\n",
    "import matplotlib.pyplot as plt\n",
    "from skimage.transform import rotate\n",
    "from skimage.feature import canny\n",
    "from skimage.measure import regionprops, label\n",
    "!pip install opencv-python\n",
    "import cv2\n",
    "from scipy.optimize import curve_fit"
   ]
  },
  {
   "cell_type": "code",
   "execution_count": 3,
   "id": "e08bebb5-144e-4e80-9547-c4bacc64f278",
   "metadata": {
    "tags": []
   },
   "outputs": [],
   "source": [
    "def load_ascii(file_path):\n",
    "    # Read the tab-delimited ASCII file into a DataFrame\n",
    "    df = pd.read_csv(file_path, delimiter='\\t',header = None)\n",
    "    df = df.drop(columns = df.columns[0]).drop(columns = df.columns[1025])\n",
    "    return df\n"
   ]
  },
  {
   "cell_type": "code",
   "execution_count": 15,
   "id": "636e0c4a-db4d-4676-b9a0-9a3f6a1c86a6",
   "metadata": {
    "tags": []
   },
   "outputs": [],
   "source": [
    "def COI(xdata,ydata): # calclate center of intensity\n",
    "    I_tot = np.trapz(ydata,x=xdata)\n",
    "    return np.trapz(xdata*ydata,x=xdata)/I_tot\n",
    "\n",
    "def andor(directory,bg_new): # find focal plane based on center of intensity\n",
    "    coi_lst = []\n",
    "    for filename in os.listdir(directory):\n",
    "        if filename.endswith('.asc'):\n",
    "            file_path = os.path.join(directory, filename)\n",
    "            # Load the ASCII file into a DataFrame\n",
    "            df = load_ascii(file_path)\n",
    "            # Delete the first and last columns\n",
    "            df-= bg_new\n",
    "            df = df.T\n",
    "            intensity = np.sum(df, axis=0)\n",
    "            pixels = np.arange(0, 1024)\n",
    "            coi = COI(pixels,intensity)\n",
    "            coi_lst.append(coi)\n",
    "    avg_coi = np.mean(coi_lst)\n",
    "    std_coi = np.std(coi_lst)\n",
    "    return avg_coi,std_coi\n",
    "\n",
    "            \n",
    "            \n"
   ]
  },
  {
   "cell_type": "code",
   "execution_count": 20,
   "id": "15fbe42b-9c71-4b51-9066-a977130882e0",
   "metadata": {
    "tags": []
   },
   "outputs": [
    {
     "name": "stdout",
     "output_type": "stream",
     "text": [
      "      1     2     3     4     5     6     7     8     9     10    ...  1015  \\\n",
      "0      583   586   583   577   582   586   588   588   577   584  ...   574   \n",
      "1      582   579   586   583   581   585   592   584   580   584  ...   583   \n",
      "2      585   575   584   576   585   578   586   578   584   586  ...   579   \n",
      "3      586   583   584   576   584   589   586   583   584   576  ...   577   \n",
      "4      580   581   586   586   581   582   590   583   576   583  ...   577   \n",
      "...    ...   ...   ...   ...   ...   ...   ...   ...   ...   ...  ...   ...   \n",
      "1019   579   588   583   581   577   584   581   578   580   582  ...   580   \n",
      "1020   584   584   576   580   583   582   576   581   578   583  ...   584   \n",
      "1021   580   587   573   578   581   586   573   580   582   584  ...   573   \n",
      "1022   584   580   585   583   573   577   577   583   576   577  ...   582   \n",
      "1023   582   582   576   583   583   586   582   582   588   580  ...   584   \n",
      "\n",
      "      1016  1017  1018  1019  1020  1021  1022  1023  1024  \n",
      "0      581   585   583   587   584   578   580   574   577  \n",
      "1      578   594   575   582   572   576   578   576   583  \n",
      "2      582   581   573   580   585   576   592   573   579  \n",
      "3      581   581   580   586   581   587   581   582   582  \n",
      "4      581   584   578   580   579   585   583   583   583  \n",
      "...    ...   ...   ...   ...   ...   ...   ...   ...   ...  \n",
      "1019   584   578   580   585   580   577   583   577   584  \n",
      "1020   579   575   579   582   580   572   584   580   573  \n",
      "1021   577   583   579   569   575   576   579   575   580  \n",
      "1022   579   579   581   586   581   582   578   585   574  \n",
      "1023   578   584   596   585   584   581   578   586   580  \n",
      "\n",
      "[1024 rows x 1024 columns]\n"
     ]
    }
   ],
   "source": [
    "dir = \"/Users/YK/Desktop/24_06_27_focal_plane_cam1/ASCII\"\n",
    "bg_ad = \"/Users/YK/Desktop/24_06_27_focal_plane_cam1/ASCII/bg/bg.asc\"\n",
    "bg = load_ascii(bg_ad)\n",
    "print(bg)"
   ]
  },
  {
   "cell_type": "code",
   "execution_count": 21,
   "id": "c69619ea-738b-49cc-ac1e-97be6ffbfb8c",
   "metadata": {
    "tags": []
   },
   "outputs": [
    {
     "data": {
      "text/plain": [
       "(589.7883366893961, 16.365809438906425)"
      ]
     },
     "execution_count": 21,
     "metadata": {},
     "output_type": "execute_result"
    }
   ],
   "source": [
    "andor(dir,bg)"
   ]
  },
  {
   "cell_type": "code",
   "execution_count": null,
   "id": "597ec921-81eb-4b1b-a4d4-30bbcd57aa16",
   "metadata": {},
   "outputs": [],
   "source": []
  }
 ],
 "metadata": {
  "kernelspec": {
   "display_name": "Python 3 (ipykernel)",
   "language": "python",
   "name": "python3"
  },
  "language_info": {
   "codemirror_mode": {
    "name": "ipython",
    "version": 3
   },
   "file_extension": ".py",
   "mimetype": "text/x-python",
   "name": "python",
   "nbconvert_exporter": "python",
   "pygments_lexer": "ipython3",
   "version": "3.11.5"
  }
 },
 "nbformat": 4,
 "nbformat_minor": 5
}
